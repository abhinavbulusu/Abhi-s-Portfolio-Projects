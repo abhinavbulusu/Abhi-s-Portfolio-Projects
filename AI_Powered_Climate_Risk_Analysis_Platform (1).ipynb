{
  "cells": [
    {
      "cell_type": "code",
      "execution_count": null,
      "metadata": {
        "colab": {
          "base_uri": "https://localhost:8080/"
        },
        "id": "e4bH9IHIMZEF",
        "outputId": "d8d7fa8b-582e-4ac0-f032-7bf78eb60be0"
      },
      "outputs": [
        {
          "name": "stdout",
          "output_type": "stream",
          "text": [
            "Collecting awscli\n",
            "  Downloading awscli-1.36.35-py3-none-any.whl.metadata (11 kB)\n",
            "Collecting boto3\n",
            "  Downloading boto3-1.35.94-py3-none-any.whl.metadata (6.7 kB)\n",
            "Collecting botocore==1.35.94 (from awscli)\n",
            "  Downloading botocore-1.35.94-py3-none-any.whl.metadata (5.7 kB)\n",
            "Collecting docutils<0.17,>=0.10 (from awscli)\n",
            "  Downloading docutils-0.16-py2.py3-none-any.whl.metadata (2.7 kB)\n",
            "Collecting s3transfer<0.11.0,>=0.10.0 (from awscli)\n",
            "  Downloading s3transfer-0.10.4-py3-none-any.whl.metadata (1.7 kB)\n",
            "Requirement already satisfied: PyYAML<6.1,>=3.10 in /usr/local/lib/python3.10/dist-packages (from awscli) (6.0.2)\n",
            "Collecting colorama<0.4.7,>=0.2.5 (from awscli)\n",
            "  Downloading colorama-0.4.6-py2.py3-none-any.whl.metadata (17 kB)\n",
            "Collecting rsa<4.8,>=3.1.2 (from awscli)\n",
            "  Downloading rsa-4.7.2-py3-none-any.whl.metadata (3.6 kB)\n",
            "Collecting jmespath<2.0.0,>=0.7.1 (from botocore==1.35.94->awscli)\n",
            "  Downloading jmespath-1.0.1-py3-none-any.whl.metadata (7.6 kB)\n",
            "Requirement already satisfied: python-dateutil<3.0.0,>=2.1 in /usr/local/lib/python3.10/dist-packages (from botocore==1.35.94->awscli) (2.8.2)\n",
            "Requirement already satisfied: urllib3!=2.2.0,<3,>=1.25.4 in /usr/local/lib/python3.10/dist-packages (from botocore==1.35.94->awscli) (2.2.3)\n",
            "Requirement already satisfied: pyasn1>=0.1.3 in /usr/local/lib/python3.10/dist-packages (from rsa<4.8,>=3.1.2->awscli) (0.6.1)\n",
            "Requirement already satisfied: six>=1.5 in /usr/local/lib/python3.10/dist-packages (from python-dateutil<3.0.0,>=2.1->botocore==1.35.94->awscli) (1.17.0)\n",
            "Downloading awscli-1.36.35-py3-none-any.whl (4.6 MB)\n",
            "\u001b[2K   \u001b[90m━━━━━━━━━━━━━━━━━━━━━━━━━━━━━━━━━━━━━━━━\u001b[0m \u001b[32m4.6/4.6 MB\u001b[0m \u001b[31m9.4 MB/s\u001b[0m eta \u001b[36m0:00:00\u001b[0m\n",
            "\u001b[?25hDownloading botocore-1.35.94-py3-none-any.whl (13.3 MB)\n",
            "\u001b[2K   \u001b[90m━━━━━━━━━━━━━━━━━━━━━━━━━━━━━━━━━━━━━━━━\u001b[0m \u001b[32m13.3/13.3 MB\u001b[0m \u001b[31m22.3 MB/s\u001b[0m eta \u001b[36m0:00:00\u001b[0m\n",
            "\u001b[?25hDownloading boto3-1.35.94-py3-none-any.whl (139 kB)\n",
            "\u001b[2K   \u001b[90m━━━━━━━━━━━━━━━━━━━━━━━━━━━━━━━━━━━━━━━━\u001b[0m \u001b[32m139.2/139.2 kB\u001b[0m \u001b[31m4.0 MB/s\u001b[0m eta \u001b[36m0:00:00\u001b[0m\n",
            "\u001b[?25hDownloading colorama-0.4.6-py2.py3-none-any.whl (25 kB)\n",
            "Downloading docutils-0.16-py2.py3-none-any.whl (548 kB)\n",
            "\u001b[2K   \u001b[90m━━━━━━━━━━━━━━━━━━━━━━━━━━━━━━━━━━━━━━━━\u001b[0m \u001b[32m548.2/548.2 kB\u001b[0m \u001b[31m16.6 MB/s\u001b[0m eta \u001b[36m0:00:00\u001b[0m\n",
            "\u001b[?25hDownloading jmespath-1.0.1-py3-none-any.whl (20 kB)\n",
            "Downloading rsa-4.7.2-py3-none-any.whl (34 kB)\n",
            "Downloading s3transfer-0.10.4-py3-none-any.whl (83 kB)\n",
            "\u001b[2K   \u001b[90m━━━━━━━━━━━━━━━━━━━━━━━━━━━━━━━━━━━━━━━━\u001b[0m \u001b[32m83.2/83.2 kB\u001b[0m \u001b[31m5.3 MB/s\u001b[0m eta \u001b[36m0:00:00\u001b[0m\n",
            "\u001b[?25hInstalling collected packages: rsa, jmespath, docutils, colorama, botocore, s3transfer, boto3, awscli\n",
            "  Attempting uninstall: rsa\n",
            "    Found existing installation: rsa 4.9\n",
            "    Uninstalling rsa-4.9:\n",
            "      Successfully uninstalled rsa-4.9\n",
            "  Attempting uninstall: docutils\n",
            "    Found existing installation: docutils 0.21.2\n",
            "    Uninstalling docutils-0.21.2:\n",
            "      Successfully uninstalled docutils-0.21.2\n",
            "\u001b[31mERROR: pip's dependency resolver does not currently take into account all the packages that are installed. This behaviour is the source of the following dependency conflicts.\n",
            "sphinx 8.1.3 requires docutils<0.22,>=0.20, but you have docutils 0.16 which is incompatible.\u001b[0m\u001b[31m\n",
            "\u001b[0mSuccessfully installed awscli-1.36.35 boto3-1.35.94 botocore-1.35.94 colorama-0.4.6 docutils-0.16 jmespath-1.0.1 rsa-4.7.2 s3transfer-0.10.4\n"
          ]
        }
      ],
      "source": [
        "!pip install awscli boto3"
      ]
    },
    {
      "cell_type": "markdown",
      "metadata": {
        "id": "4HRqgM_ZX0Fv"
      },
      "source": []
    },
    {
      "cell_type": "code",
      "execution_count": null,
      "metadata": {
        "colab": {
          "base_uri": "https://localhost:8080/",
          "height": 1000
        },
        "id": "ZaKx8-CNRdtc",
        "outputId": "79dc1c50-cd9a-46ad-d733-696d76c03255"
      },
      "outputs": [
        {
          "name": "stdout",
          "output_type": "stream",
          "text": [
            "Collecting aws\n",
            "  Downloading aws-0.2.5.tar.gz (5.6 kB)\n",
            "  Preparing metadata (setup.py) ... \u001b[?25l\u001b[?25hdone\n",
            "Collecting configure\n",
            "  Downloading configure-0.5.tar.gz (6.2 kB)\n",
            "  Preparing metadata (setup.py) ... \u001b[?25l\u001b[?25hdone\n",
            "Collecting boto (from aws)\n",
            "  Downloading boto-2.49.0-py2.py3-none-any.whl.metadata (7.3 kB)\n",
            "Collecting fabric>=1.6 (from aws)\n",
            "  Downloading fabric-3.2.2-py3-none-any.whl.metadata (3.5 kB)\n",
            "Requirement already satisfied: prettytable>=0.7 in /usr/local/lib/python3.10/dist-packages (from aws) (3.12.0)\n",
            "Requirement already satisfied: pyyaml in /usr/local/lib/python3.10/dist-packages (from configure) (6.0.2)\n",
            "Collecting invoke>=2.0 (from fabric>=1.6->aws)\n",
            "  Downloading invoke-2.2.0-py3-none-any.whl.metadata (3.3 kB)\n",
            "Collecting paramiko>=2.4 (from fabric>=1.6->aws)\n",
            "  Downloading paramiko-3.5.0-py3-none-any.whl.metadata (4.4 kB)\n",
            "Collecting decorator>=5 (from fabric>=1.6->aws)\n",
            "  Downloading decorator-5.1.1-py3-none-any.whl.metadata (4.0 kB)\n",
            "Requirement already satisfied: deprecated>=1.2 in /usr/local/lib/python3.10/dist-packages (from fabric>=1.6->aws) (1.2.15)\n",
            "Requirement already satisfied: wcwidth in /usr/local/lib/python3.10/dist-packages (from prettytable>=0.7->aws) (0.2.13)\n",
            "Requirement already satisfied: wrapt<2,>=1.10 in /usr/local/lib/python3.10/dist-packages (from deprecated>=1.2->fabric>=1.6->aws) (1.17.0)\n",
            "Collecting bcrypt>=3.2 (from paramiko>=2.4->fabric>=1.6->aws)\n",
            "  Downloading bcrypt-4.2.1-cp39-abi3-manylinux_2_28_x86_64.whl.metadata (9.8 kB)\n",
            "Requirement already satisfied: cryptography>=3.3 in /usr/local/lib/python3.10/dist-packages (from paramiko>=2.4->fabric>=1.6->aws) (43.0.3)\n",
            "Collecting pynacl>=1.5 (from paramiko>=2.4->fabric>=1.6->aws)\n",
            "  Downloading PyNaCl-1.5.0-cp36-abi3-manylinux_2_17_x86_64.manylinux2014_x86_64.manylinux_2_24_x86_64.whl.metadata (8.6 kB)\n",
            "Requirement already satisfied: cffi>=1.12 in /usr/local/lib/python3.10/dist-packages (from cryptography>=3.3->paramiko>=2.4->fabric>=1.6->aws) (1.17.1)\n",
            "Requirement already satisfied: pycparser in /usr/local/lib/python3.10/dist-packages (from cffi>=1.12->cryptography>=3.3->paramiko>=2.4->fabric>=1.6->aws) (2.22)\n",
            "Downloading fabric-3.2.2-py3-none-any.whl (59 kB)\n",
            "\u001b[2K   \u001b[90m━━━━━━━━━━━━━━━━━━━━━━━━━━━━━━━━━━━━━━━━\u001b[0m \u001b[32m59.4/59.4 kB\u001b[0m \u001b[31m2.5 MB/s\u001b[0m eta \u001b[36m0:00:00\u001b[0m\n",
            "\u001b[?25hDownloading boto-2.49.0-py2.py3-none-any.whl (1.4 MB)\n",
            "\u001b[2K   \u001b[90m━━━━━━━━━━━━━━━━━━━━━━━━━━━━━━━━━━━━━━━━\u001b[0m \u001b[32m1.4/1.4 MB\u001b[0m \u001b[31m24.3 MB/s\u001b[0m eta \u001b[36m0:00:00\u001b[0m\n",
            "\u001b[?25hDownloading decorator-5.1.1-py3-none-any.whl (9.1 kB)\n",
            "Downloading invoke-2.2.0-py3-none-any.whl (160 kB)\n",
            "\u001b[2K   \u001b[90m━━━━━━━━━━━━━━━━━━━━━━━━━━━━━━━━━━━━━━━━\u001b[0m \u001b[32m160.3/160.3 kB\u001b[0m \u001b[31m12.7 MB/s\u001b[0m eta \u001b[36m0:00:00\u001b[0m\n",
            "\u001b[?25hDownloading paramiko-3.5.0-py3-none-any.whl (227 kB)\n",
            "\u001b[2K   \u001b[90m━━━━━━━━━━━━━━━━━━━━━━━━━━━━━━━━━━━━━━━━\u001b[0m \u001b[32m227.1/227.1 kB\u001b[0m \u001b[31m16.6 MB/s\u001b[0m eta \u001b[36m0:00:00\u001b[0m\n",
            "\u001b[?25hDownloading bcrypt-4.2.1-cp39-abi3-manylinux_2_28_x86_64.whl (278 kB)\n",
            "\u001b[2K   \u001b[90m━━━━━━━━━━━━━━━━━━━━━━━━━━━━━━━━━━━━━━━━\u001b[0m \u001b[32m278.6/278.6 kB\u001b[0m \u001b[31m14.0 MB/s\u001b[0m eta \u001b[36m0:00:00\u001b[0m\n",
            "\u001b[?25hDownloading PyNaCl-1.5.0-cp36-abi3-manylinux_2_17_x86_64.manylinux2014_x86_64.manylinux_2_24_x86_64.whl (856 kB)\n",
            "\u001b[2K   \u001b[90m━━━━━━━━━━━━━━━━━━━━━━━━━━━━━━━━━━━━━━━━\u001b[0m \u001b[32m856.7/856.7 kB\u001b[0m \u001b[31m40.7 MB/s\u001b[0m eta \u001b[36m0:00:00\u001b[0m\n",
            "\u001b[?25hBuilding wheels for collected packages: aws, configure\n",
            "  Building wheel for aws (setup.py) ... \u001b[?25l\u001b[?25hdone\n",
            "  Created wheel for aws: filename=aws-0.2.5-py3-none-any.whl size=7435 sha256=1db9cc060374cbf8b03156864b4a4cbb6790e910db9a0847accd877d0ab66a2b\n",
            "  Stored in directory: /root/.cache/pip/wheels/a0/d0/ac/e8d76c21487489b51cdef392e7d23a4ccb35f82633d164ec0c\n",
            "  Building wheel for configure (setup.py) ... \u001b[?25l\u001b[?25hdone\n",
            "  Created wheel for configure: filename=configure-0.5-py3-none-any.whl size=6473 sha256=5f8781b87377b422c75be2a58260bf31999ce4b618ac0c512c6f1aa541c8f753\n",
            "  Stored in directory: /root/.cache/pip/wheels/ed/32/6a/0e19b0b63fa25686cac71da1717ca61041e18bb826ae62bb36\n",
            "Successfully built aws configure\n",
            "Installing collected packages: boto, invoke, decorator, configure, bcrypt, pynacl, paramiko, fabric, aws\n",
            "  Attempting uninstall: decorator\n",
            "    Found existing installation: decorator 4.4.2\n",
            "    Uninstalling decorator-4.4.2:\n",
            "      Successfully uninstalled decorator-4.4.2\n",
            "\u001b[31mERROR: pip's dependency resolver does not currently take into account all the packages that are installed. This behaviour is the source of the following dependency conflicts.\n",
            "ipython 7.34.0 requires jedi>=0.16, which is not installed.\n",
            "moviepy 1.0.3 requires decorator<5.0,>=4.0.2, but you have decorator 5.1.1 which is incompatible.\u001b[0m\u001b[31m\n",
            "\u001b[0mSuccessfully installed aws-0.2.5 bcrypt-4.2.1 boto-2.49.0 configure-0.5 decorator-5.1.1 fabric-3.2.2 invoke-2.2.0 paramiko-3.5.0 pynacl-1.5.0\n"
          ]
        },
        {
          "data": {
            "application/vnd.colab-display-data+json": {
              "id": "052a1916bb85454989a77722c55af20e",
              "pip_warning": {
                "packages": [
                  "decorator"
                ]
              }
            }
          },
          "metadata": {},
          "output_type": "display_data"
        }
      ],
      "source": [
        "!pip install aws configure"
      ]
    },
    {
      "cell_type": "code",
      "execution_count": null,
      "metadata": {
        "colab": {
          "base_uri": "https://localhost:8080/"
        },
        "id": "Z3H0OiGMS2_f",
        "outputId": "64310919-8d34-47f6-dc4f-69860492ca15"
      },
      "outputs": [
        {
          "name": "stdout",
          "output_type": "stream",
          "text": [
            "Requirement already satisfied: awscli in /usr/local/lib/python3.10/dist-packages (1.36.35)\n",
            "Requirement already satisfied: botocore==1.35.94 in /usr/local/lib/python3.10/dist-packages (from awscli) (1.35.94)\n",
            "Requirement already satisfied: docutils<0.17,>=0.10 in /usr/local/lib/python3.10/dist-packages (from awscli) (0.16)\n",
            "Requirement already satisfied: s3transfer<0.11.0,>=0.10.0 in /usr/local/lib/python3.10/dist-packages (from awscli) (0.10.4)\n",
            "Requirement already satisfied: PyYAML<6.1,>=3.10 in /usr/local/lib/python3.10/dist-packages (from awscli) (6.0.2)\n",
            "Requirement already satisfied: colorama<0.4.7,>=0.2.5 in /usr/local/lib/python3.10/dist-packages (from awscli) (0.4.6)\n",
            "Requirement already satisfied: rsa<4.8,>=3.1.2 in /usr/local/lib/python3.10/dist-packages (from awscli) (4.7.2)\n",
            "Requirement already satisfied: jmespath<2.0.0,>=0.7.1 in /usr/local/lib/python3.10/dist-packages (from botocore==1.35.94->awscli) (1.0.1)\n",
            "Requirement already satisfied: python-dateutil<3.0.0,>=2.1 in /usr/local/lib/python3.10/dist-packages (from botocore==1.35.94->awscli) (2.8.2)\n",
            "Requirement already satisfied: urllib3!=2.2.0,<3,>=1.25.4 in /usr/local/lib/python3.10/dist-packages (from botocore==1.35.94->awscli) (2.2.3)\n",
            "Requirement already satisfied: pyasn1>=0.1.3 in /usr/local/lib/python3.10/dist-packages (from rsa<4.8,>=3.1.2->awscli) (0.6.1)\n",
            "Requirement already satisfied: six>=1.5 in /usr/local/lib/python3.10/dist-packages (from python-dateutil<3.0.0,>=2.1->botocore==1.35.94->awscli) (1.17.0)\n"
          ]
        }
      ],
      "source": [
        "!pip install awscli"
      ]
    },
    {
      "cell_type": "code",
      "execution_count": null,
      "metadata": {
        "colab": {
          "base_uri": "https://localhost:8080/"
        },
        "id": "hb1ZqW9AS5ar",
        "outputId": "d9e9abf7-2512-4f06-a329-4f4e9e11cff2"
      },
      "outputs": [
        {
          "name": "stdout",
          "output_type": "stream",
          "text": [
            "Traceback (most recent call last):\n",
            "  File \"/usr/local/bin/aws\", line 5, in <module>\n",
            "    from aws.main import main\n",
            "  File \"/usr/local/lib/python3.10/dist-packages/aws/main.py\", line 23\n",
            "    print '%(name)s: %(endpoint)s' % {\n",
            "    ^^^^^^^^^^^^^^^^^^^^^^^^^^^^^^^^^^\n",
            "SyntaxError: Missing parentheses in call to 'print'. Did you mean print(...)?\n"
          ]
        }
      ],
      "source": [
        "!aws configure"
      ]
    },
    {
      "cell_type": "code",
      "execution_count": null,
      "metadata": {
        "id": "JaOJl2fpQrK0"
      },
      "outputs": [],
      "source": [
        "import os\n",
        "\n",
        "# Set AWS credentials\n",
        "os.environ['AWS_ACCESS_KEY_ID'] = 'Key goes here'\n",
        "os.environ['AWS_SECRET_ACCESS_KEY'] = 'Secret Access Key goes here'\n",
        "os.environ['AWS_DEFAULT_REGION'] = 'us-east-1'  # e.g., 'us-east-1'\n"
      ]
    },
    {
      "cell_type": "code",
      "execution_count": null,
      "metadata": {
        "colab": {
          "base_uri": "https://localhost:8080/"
        },
        "id": "RmoLMj25TkUC",
        "outputId": "2cc42ca2-4010-43b7-8530-15556e6f89d5"
      },
      "outputs": [
        {
          "name": "stdout",
          "output_type": "stream",
          "text": [
            "S3 Buckets:\n",
            " - abhisagemakermodelsbucket\n",
            " - climate-risk-data-abhinav\n",
            " - sagemaker-studio-418389467491-c6r9ai7newq\n",
            " - sagemaker-us-east-1-418389467491\n"
          ]
        }
      ],
      "source": [
        "import boto3\n",
        "\n",
        "s3 = boto3.client('s3')\n",
        "response = s3.list_buckets()\n",
        "\n",
        "print(\"S3 Buckets:\")\n",
        "for bucket in response['Buckets']:\n",
        "    print(f\" - {bucket['Name']}\")\n"
      ]
    },
    {
      "cell_type": "markdown",
      "metadata": {
        "id": "Iz0NbNitUdxC"
      },
      "source": [
        "Dataset Selection and Uploading"
      ]
    },
    {
      "cell_type": "code",
      "execution_count": null,
      "metadata": {
        "colab": {
          "base_uri": "https://localhost:8080/"
        },
        "id": "c0lpiJupXfQe",
        "outputId": "af284ad4-3fd3-4a97-f439-296ff58d1acb"
      },
      "outputs": [
        {
          "name": "stdout",
          "output_type": "stream",
          "text": [
            "<class 'pandas.core.frame.DataFrame'>\n",
            "RangeIndex: 7410211 entries, 0 to 7410210\n",
            "Data columns (total 7 columns):\n",
            " #   Column                         Dtype  \n",
            "---  ------                         -----  \n",
            " 0   dt                             object \n",
            " 1   AverageTemperature             float64\n",
            " 2   AverageTemperatureUncertainty  float64\n",
            " 3   City                           object \n",
            " 4   Country                        object \n",
            " 5   Latitude                       object \n",
            " 6   Longitude                      object \n",
            "dtypes: float64(2), object(5)\n",
            "memory usage: 395.7+ MB\n",
            "None\n",
            "       AverageTemperature  AverageTemperatureUncertainty\n",
            "count        7.084556e+06                   7.084556e+06\n",
            "mean         1.703445e+01                   1.024187e+00\n",
            "std          1.026443e+01                   1.125164e+00\n",
            "min         -4.270400e+01                   3.400000e-02\n",
            "25%          1.076800e+01                   3.380000e-01\n",
            "50%          1.919500e+01                   5.880000e-01\n",
            "75%          2.537100e+01                   1.341000e+00\n",
            "max          3.915600e+01                   1.539600e+01\n",
            "           dt  AverageTemperature  AverageTemperatureUncertainty   City  \\\n",
            "0  1743-11-01               6.068                          1.737  Århus   \n",
            "1  1743-12-01                 NaN                            NaN  Århus   \n",
            "2  1744-01-01                 NaN                            NaN  Århus   \n",
            "3  1744-02-01                 NaN                            NaN  Århus   \n",
            "4  1744-03-01                 NaN                            NaN  Århus   \n",
            "\n",
            "   Country Latitude Longitude  \n",
            "0  Denmark   57.05N    10.33E  \n",
            "1  Denmark   57.05N    10.33E  \n",
            "2  Denmark   57.05N    10.33E  \n",
            "3  Denmark   57.05N    10.33E  \n",
            "4  Denmark   57.05N    10.33E  \n"
          ]
        }
      ],
      "source": [
        "import pandas as pd\n",
        "\n",
        "# Load dataset\n",
        "data = pd.read_csv('GlobalLandTemperaturesByCity.csv')  # Replace with your dataset filename\n",
        "\n",
        "# Overview of the dataset\n",
        "print(data.info())\n",
        "print(data.describe())\n",
        "print(data.head())\n"
      ]
    },
    {
      "cell_type": "code",
      "execution_count": null,
      "metadata": {
        "colab": {
          "base_uri": "https://localhost:8080/"
        },
        "id": "rIOM6aphfA6C",
        "outputId": "ed4bf9f0-24b9-44f6-d278-d1e1d6cbbb78"
      },
      "outputs": [
        {
          "name": "stdout",
          "output_type": "stream",
          "text": [
            "File uploaded to S3://climate-risk-data-abhinav/GlobalLandTemperaturesByCity.csv\n"
          ]
        }
      ],
      "source": [
        "bucket_name = 'climate-risk-data-abhinav'  # Replace with your bucket name\n",
        "file_key = 'GlobalLandTemperaturesByCity.csv'  # Desired file name in S3\n",
        "\n",
        "with open('GlobalLandTemperaturesByCity.csv', 'rb') as file:\n",
        "    s3.upload_fileobj(file, bucket_name, file_key)\n",
        "\n",
        "print(f\"File uploaded to S3://{bucket_name}/{file_key}\")"
      ]
    },
    {
      "cell_type": "markdown",
      "metadata": {
        "id": "KBmGd-4nsers"
      },
      "source": [
        "Checking for Missing Values"
      ]
    },
    {
      "cell_type": "code",
      "execution_count": null,
      "metadata": {
        "colab": {
          "base_uri": "https://localhost:8080/"
        },
        "id": "1CMgCja-sg0K",
        "outputId": "ae27caa7-25a0-4c20-f384-8593a99246b8"
      },
      "outputs": [
        {
          "name": "stdout",
          "output_type": "stream",
          "text": [
            "dt                                    0\n",
            "AverageTemperature               325655\n",
            "AverageTemperatureUncertainty    325655\n",
            "City                                  0\n",
            "Country                               1\n",
            "Latitude                              1\n",
            "Longitude                             1\n",
            "dtype: int64\n"
          ]
        }
      ],
      "source": [
        "print(data.isnull().sum())\n"
      ]
    },
    {
      "cell_type": "code",
      "execution_count": null,
      "metadata": {
        "colab": {
          "base_uri": "https://localhost:8080/"
        },
        "id": "O406DYodsm9H",
        "outputId": "b84ca25f-52a9-4be1-9c13-c64ba3a73979"
      },
      "outputs": [
        {
          "name": "stderr",
          "output_type": "stream",
          "text": [
            "<ipython-input-11-47df1acf0d07>:1: FutureWarning: A value is trying to be set on a copy of a DataFrame or Series through chained assignment using an inplace method.\n",
            "The behavior will change in pandas 3.0. This inplace method will never work because the intermediate object on which we are setting values always behaves as a copy.\n",
            "\n",
            "For example, when doing 'df[col].method(value, inplace=True)', try using 'df.method({col: value}, inplace=True)' or df[col] = df[col].method(value) instead, to perform the operation inplace on the original object.\n",
            "\n",
            "\n",
            "  data['AverageTemperature'].fillna(data['AverageTemperature'].mean(), inplace=True)\n",
            "<ipython-input-11-47df1acf0d07>:2: FutureWarning: A value is trying to be set on a copy of a DataFrame or Series through chained assignment using an inplace method.\n",
            "The behavior will change in pandas 3.0. This inplace method will never work because the intermediate object on which we are setting values always behaves as a copy.\n",
            "\n",
            "For example, when doing 'df[col].method(value, inplace=True)', try using 'df.method({col: value}, inplace=True)' or df[col] = df[col].method(value) instead, to perform the operation inplace on the original object.\n",
            "\n",
            "\n",
            "  data['AverageTemperatureUncertainty'].fillna(data['AverageTemperatureUncertainty'].mean(), inplace=True)\n"
          ]
        }
      ],
      "source": [
        "data['AverageTemperature'].fillna(data['AverageTemperature'].mean(), inplace=True)\n",
        "data['AverageTemperatureUncertainty'].fillna(data['AverageTemperatureUncertainty'].mean(), inplace=True)\n"
      ]
    },
    {
      "cell_type": "code",
      "execution_count": null,
      "metadata": {
        "id": "eQrxbjeYsqvV"
      },
      "outputs": [],
      "source": [
        "data.dropna(subset=['Latitude', 'Longitude'], inplace=True)\n"
      ]
    },
    {
      "cell_type": "markdown",
      "metadata": {
        "id": "JeJ5vbMcsvPU"
      },
      "source": [
        "Convert Coordinates to Numbers"
      ]
    },
    {
      "cell_type": "code",
      "execution_count": null,
      "metadata": {
        "id": "JfpKsKzhszEF"
      },
      "outputs": [],
      "source": [
        "def parse_coordinates(coord):\n",
        "    value = float(coord[:-1])  # Remove the last character (N/S/E/W)\n",
        "    if coord[-1] in ['S', 'W']:\n",
        "        value = -value  # Make it negative for South/West\n",
        "    return value\n",
        "\n",
        "data['Latitude'] = data['Latitude'].apply(parse_coordinates)\n",
        "data['Longitude'] = data['Longitude'].apply(parse_coordinates)\n"
      ]
    },
    {
      "cell_type": "code",
      "execution_count": null,
      "metadata": {
        "id": "VFka9CPjwqiT"
      },
      "outputs": [],
      "source": [
        "data['dt'] = pd.to_datetime(data['dt'])\n"
      ]
    },
    {
      "cell_type": "code",
      "execution_count": null,
      "metadata": {
        "id": "UlLF8uHIwss2"
      },
      "outputs": [],
      "source": [
        "data['Year'] = data['dt'].dt.year\n",
        "data['Month'] = data['dt'].dt.month\n"
      ]
    },
    {
      "cell_type": "markdown",
      "metadata": {
        "id": "kyN_i1K0xK3l"
      },
      "source": [
        "Clean City and Country Names"
      ]
    },
    {
      "cell_type": "code",
      "execution_count": null,
      "metadata": {
        "id": "DSjiISP9xM7Y"
      },
      "outputs": [],
      "source": [
        "data['City'] = data['City'].str.strip().str.title()\n",
        "data['Country'] = data['Country'].str.strip().str.title()\n"
      ]
    },
    {
      "cell_type": "markdown",
      "metadata": {
        "id": "KqDc87m1xQ5R"
      },
      "source": [
        "Saving and Re-Uploading data set"
      ]
    },
    {
      "cell_type": "code",
      "execution_count": null,
      "metadata": {
        "id": "e3F7YByLxV0K"
      },
      "outputs": [],
      "source": [
        "data.to_csv('cleaned_climate_data.csv', index=False)\n"
      ]
    },
    {
      "cell_type": "code",
      "execution_count": null,
      "metadata": {
        "colab": {
          "base_uri": "https://localhost:8080/"
        },
        "id": "lriJ5ROgxcfx",
        "outputId": "7526edc4-129d-4949-e8e6-7e2a8fbd3803"
      },
      "outputs": [
        {
          "name": "stdout",
          "output_type": "stream",
          "text": [
            "Cleaned data uploaded to S3://climate-risk-data-abhinav/cleaned_climate_data.csv\n"
          ]
        }
      ],
      "source": [
        "import boto3\n",
        "\n",
        "bucket_name = 'climate-risk-data-abhinav'  # Replace with your bucket name\n",
        "file_key = 'cleaned_climate_data.csv'\n",
        "\n",
        "# Initialize S3 client\n",
        "s3 = boto3.client('s3')\n",
        "\n",
        "# Upload the cleaned file\n",
        "with open('cleaned_climate_data.csv', 'rb') as file:\n",
        "    s3.upload_fileobj(file, bucket_name, file_key)\n",
        "\n",
        "print(f\"Cleaned data uploaded to S3://{bucket_name}/{file_key}\")\n"
      ]
    },
    {
      "cell_type": "markdown",
      "metadata": {
        "id": "K4adsqFWX49b"
      },
      "source": [
        "Analyzing and Visualizing Trends"
      ]
    },
    {
      "cell_type": "code",
      "execution_count": null,
      "metadata": {
        "colab": {
          "base_uri": "https://localhost:8080/"
        },
        "id": "7OaQ55wWX77k",
        "outputId": "c3085b2b-5db3-4d70-a0f5-a678e26287c8"
      },
      "outputs": [
        {
          "name": "stdout",
          "output_type": "stream",
          "text": [
            "<class 'pandas.core.frame.DataFrame'>\n",
            "RangeIndex: 7410210 entries, 0 to 7410209\n",
            "Data columns (total 9 columns):\n",
            " #   Column                         Dtype  \n",
            "---  ------                         -----  \n",
            " 0   dt                             object \n",
            " 1   AverageTemperature             float64\n",
            " 2   AverageTemperatureUncertainty  float64\n",
            " 3   City                           object \n",
            " 4   Country                        object \n",
            " 5   Latitude                       float64\n",
            " 6   Longitude                      float64\n",
            " 7   Year                           int64  \n",
            " 8   Month                          int64  \n",
            "dtypes: float64(4), int64(2), object(3)\n",
            "memory usage: 508.8+ MB\n",
            "None\n",
            "           dt  AverageTemperature  AverageTemperatureUncertainty   City  \\\n",
            "0  1743-11-01            6.068000                       1.737000  Århus   \n",
            "1  1743-12-01           17.034449                       1.024187  Århus   \n",
            "2  1744-01-01           17.034449                       1.024187  Århus   \n",
            "3  1744-02-01           17.034449                       1.024187  Århus   \n",
            "4  1744-03-01           17.034449                       1.024187  Århus   \n",
            "\n",
            "   Country  Latitude  Longitude  Year  Month  \n",
            "0  Denmark     57.05      10.33  1743     11  \n",
            "1  Denmark     57.05      10.33  1743     12  \n",
            "2  Denmark     57.05      10.33  1744      1  \n",
            "3  Denmark     57.05      10.33  1744      2  \n",
            "4  Denmark     57.05      10.33  1744      3  \n"
          ]
        }
      ],
      "source": [
        "import boto3\n",
        "import pandas as pd\n",
        "\n",
        "# Initialize S3 client\n",
        "s3 = boto3.client('s3')\n",
        "bucket_name = 'climate-risk-data-abhinav'  # Replace with your bucket name\n",
        "file_key = 'cleaned_climate_data.csv'\n",
        "\n",
        "# Load dataset\n",
        "obj = s3.get_object(Bucket=bucket_name, Key=file_key)\n",
        "data = pd.read_csv(obj['Body'])\n",
        "\n",
        "# Preview dataset\n",
        "print(data.info())\n",
        "print(data.head())\n"
      ]
    },
    {
      "cell_type": "code",
      "execution_count": null,
      "metadata": {
        "colab": {
          "base_uri": "https://localhost:8080/"
        },
        "id": "LGCtrreubHFm",
        "outputId": "dacb8908-f37f-4cf0-a748-c8f6c9c3036b"
      },
      "outputs": [
        {
          "name": "stdout",
          "output_type": "stream",
          "text": [
            "   Year  AverageTemperature\n",
            "0  1743           11.008587\n",
            "1  1744           12.864599\n",
            "2  1745           11.895699\n",
            "3  1746           17.034449\n",
            "4  1747           17.034449\n"
          ]
        }
      ],
      "source": [
        "global_temp = data.groupby('Year')['AverageTemperature'].mean().reset_index()\n",
        "print(global_temp.head())\n"
      ]
    },
    {
      "cell_type": "code",
      "execution_count": null,
      "metadata": {
        "colab": {
          "base_uri": "https://localhost:8080/"
        },
        "id": "Zd46-OmHbe9c",
        "outputId": "5ffb4fa0-edbd-4f37-f23f-d9a4a05e49e3"
      },
      "outputs": [
        {
          "name": "stdout",
          "output_type": "stream",
          "text": [
            "   Year  AverageTemperature\n",
            "0  1743           10.149224\n",
            "1  1744           13.451733\n",
            "2  1745           11.734466\n",
            "3  1746           17.034449\n",
            "4  1747           17.034449\n"
          ]
        }
      ],
      "source": [
        "nyc_temp = data[data['City'] == 'New York']\n",
        "nyc_yearly_temp = nyc_temp.groupby('Year')['AverageTemperature'].mean().reset_index()\n",
        "print(nyc_yearly_temp.head())\n"
      ]
    },
    {
      "cell_type": "markdown",
      "metadata": {
        "id": "rQfvG7Lkb9lD"
      },
      "source": [
        "Visualize Trends"
      ]
    },
    {
      "cell_type": "code",
      "execution_count": null,
      "metadata": {
        "colab": {
          "base_uri": "https://localhost:8080/"
        },
        "id": "OJTqT1-hb_Ra",
        "outputId": "29fffd6e-f084-4a93-a3a1-2fbdaef4cfaa"
      },
      "outputs": [
        {
          "name": "stdout",
          "output_type": "stream",
          "text": [
            "Requirement already satisfied: matplotlib in /usr/local/lib/python3.10/dist-packages (3.8.0)\n",
            "Requirement already satisfied: seaborn in /usr/local/lib/python3.10/dist-packages (0.13.2)\n",
            "Requirement already satisfied: contourpy>=1.0.1 in /usr/local/lib/python3.10/dist-packages (from matplotlib) (1.3.1)\n",
            "Requirement already satisfied: cycler>=0.10 in /usr/local/lib/python3.10/dist-packages (from matplotlib) (0.12.1)\n",
            "Requirement already satisfied: fonttools>=4.22.0 in /usr/local/lib/python3.10/dist-packages (from matplotlib) (4.55.3)\n",
            "Requirement already satisfied: kiwisolver>=1.0.1 in /usr/local/lib/python3.10/dist-packages (from matplotlib) (1.4.7)\n",
            "Requirement already satisfied: numpy<2,>=1.21 in /usr/local/lib/python3.10/dist-packages (from matplotlib) (1.26.4)\n",
            "Requirement already satisfied: packaging>=20.0 in /usr/local/lib/python3.10/dist-packages (from matplotlib) (24.2)\n",
            "Requirement already satisfied: pillow>=6.2.0 in /usr/local/lib/python3.10/dist-packages (from matplotlib) (11.0.0)\n",
            "Requirement already satisfied: pyparsing>=2.3.1 in /usr/local/lib/python3.10/dist-packages (from matplotlib) (3.2.0)\n",
            "Requirement already satisfied: python-dateutil>=2.7 in /usr/local/lib/python3.10/dist-packages (from matplotlib) (2.8.2)\n",
            "Requirement already satisfied: pandas>=1.2 in /usr/local/lib/python3.10/dist-packages (from seaborn) (2.2.2)\n",
            "Requirement already satisfied: pytz>=2020.1 in /usr/local/lib/python3.10/dist-packages (from pandas>=1.2->seaborn) (2024.2)\n",
            "Requirement already satisfied: tzdata>=2022.7 in /usr/local/lib/python3.10/dist-packages (from pandas>=1.2->seaborn) (2024.2)\n",
            "Requirement already satisfied: six>=1.5 in /usr/local/lib/python3.10/dist-packages (from python-dateutil>=2.7->matplotlib) (1.17.0)\n"
          ]
        }
      ],
      "source": [
        "!pip install matplotlib seaborn\n"
      ]
    },
    {
      "cell_type": "code",
      "execution_count": null,
      "metadata": {
        "colab": {
          "base_uri": "https://localhost:8080/",
          "height": 570
        },
        "id": "hVXbVsvsc9V1",
        "outputId": "d6e82da2-70a5-44ca-e9fb-bc98eb9a58f3"
      },
      "outputs": [
        {
          "data": {
            "image/png": "[encoded data removed]",
            "text/plain": [
              "<Figure size 1000x600 with 1 Axes>"
            ]
          },
          "metadata": {},
          "output_type": "display_data"
        }
      ],
      "source": [
        "import matplotlib.pyplot as plt\n",
        "\n",
        "# Plot global temperature trends\n",
        "plt.figure(figsize=(10, 6))\n",
        "plt.plot(global_temp['Year'], global_temp['AverageTemperature'], marker='o')\n",
        "plt.title('Global Average Temperature Over Time', fontsize=16)\n",
        "plt.xlabel('Year', fontsize=12)\n",
        "plt.ylabel('Average Temperature (°C)', fontsize=12)\n",
        "plt.grid(True)\n",
        "plt.show()\n"
      ]
    },
    {
      "cell_type": "code",
      "execution_count": null,
      "metadata": {
        "colab": {
          "base_uri": "https://localhost:8080/",
          "height": 570
        },
        "id": "-rXDsXHRdB3X",
        "outputId": "ba39ac9b-9200-4306-bfb6-886114e878c3"
      },
      "outputs": [
        {
          "data": {
            "image/png": "[encoded data removed]",
            "text/plain": [
              "<Figure size 1000x600 with 1 Axes>"
            ]
          },
          "metadata": {},
          "output_type": "display_data"
        }
      ],
      "source": [
        "# Plot NYC temperature trends\n",
        "plt.figure(figsize=(10, 6))\n",
        "plt.plot(nyc_yearly_temp['Year'], nyc_yearly_temp['AverageTemperature'], marker='o', color='orange')\n",
        "plt.title('Average Temperature in New York Over Time', fontsize=16)\n",
        "plt.xlabel('Year', fontsize=12)\n",
        "plt.ylabel('Average Temperature (°C)', fontsize=12)\n",
        "plt.grid(True)\n",
        "plt.show()\n"
      ]
    },
    {
      "cell_type": "markdown",
      "metadata": {
        "id": "5vy_1_1edHjt"
      },
      "source": [
        "Regional Trends"
      ]
    },
    {
      "cell_type": "code",
      "execution_count": null,
      "metadata": {
        "id": "ejwFXA98dJKS"
      },
      "outputs": [],
      "source": [
        "country_temp = data.groupby(['Country', 'Year'])['AverageTemperature'].mean().reset_index()\n",
        "usa_temp = country_temp[country_temp['Country'] == 'United States']\n"
      ]
    },
    {
      "cell_type": "code",
      "execution_count": null,
      "metadata": {
        "colab": {
          "base_uri": "https://localhost:8080/",
          "height": 570
        },
        "id": "RfITa3FIdNmb",
        "outputId": "93ba94fa-70a8-4863-cf6e-85a5b83c814e"
      },
      "outputs": [
        {
          "data": {
            "image/png": "[encoded data removed]",
            "text/plain": [
              "<Figure size 1000x600 with 1 Axes>"
            ]
          },
          "metadata": {},
          "output_type": "display_data"
        }
      ],
      "source": [
        "# Plot USA temperature trends\n",
        "plt.figure(figsize=(10, 6))\n",
        "plt.plot(usa_temp['Year'], usa_temp['AverageTemperature'], marker='o', color='green')\n",
        "plt.title('Average Temperature in the United States Over Time', fontsize=16)\n",
        "plt.xlabel('Year', fontsize=12)\n",
        "plt.ylabel('Average Temperature (°C)', fontsize=12)\n",
        "plt.grid(True)\n",
        "plt.show()\n"
      ]
    },
    {
      "cell_type": "code",
      "execution_count": null,
      "metadata": {
        "colab": {
          "base_uri": "https://localhost:8080/",
          "height": 35
        },
        "id": "m550QgQBUyJk",
        "outputId": "0da9c2a3-d29e-4b37-e5c2-a62c77cf8162"
      },
      "outputs": [
        {
          "data": {
            "text/plain": [
              "<Figure size 640x480 with 0 Axes>"
            ]
          },
          "metadata": {},
          "output_type": "display_data"
        }
      ],
      "source": [
        "plt.savefig('global_temp_trend.png')\n"
      ]
    },
    {
      "cell_type": "code",
      "execution_count": null,
      "metadata": {
        "colab": {
          "base_uri": "https://localhost:8080/"
        },
        "id": "SKChURIzW1wn",
        "outputId": "f37d1f85-00cb-49f3-9c0b-556274ab97ea"
      },
      "outputs": [
        {
          "name": "stdout",
          "output_type": "stream",
          "text": [
            "Plot uploaded to S3!\n"
          ]
        }
      ],
      "source": [
        "# Upload the saved plot to S3\n",
        "with open('global_temp_trend.png', 'rb') as file:\n",
        "    s3.upload_fileobj(file, bucket_name, 'global_temp_trend.png')\n",
        "\n",
        "print(\"Plot uploaded to S3!\")\n"
      ]
    },
    {
      "cell_type": "code",
      "execution_count": null,
      "metadata": {
        "colab": {
          "base_uri": "https://localhost:8080/"
        },
        "id": "IEPLtIEIW-rs",
        "outputId": "cb329dc6-ba7d-4b69-cacc-89f90314bbad"
      },
      "outputs": [
        {
          "name": "stdout",
          "output_type": "stream",
          "text": [
            "<class 'pandas.core.frame.DataFrame'>\n",
            "RangeIndex: 7410210 entries, 0 to 7410209\n",
            "Data columns (total 9 columns):\n",
            " #   Column                         Dtype  \n",
            "---  ------                         -----  \n",
            " 0   dt                             object \n",
            " 1   AverageTemperature             float64\n",
            " 2   AverageTemperatureUncertainty  float64\n",
            " 3   City                           object \n",
            " 4   Country                        object \n",
            " 5   Latitude                       float64\n",
            " 6   Longitude                      float64\n",
            " 7   Year                           int64  \n",
            " 8   Month                          int64  \n",
            "dtypes: float64(4), int64(2), object(3)\n",
            "memory usage: 508.8+ MB\n",
            "None\n",
            "           dt  AverageTemperature  AverageTemperatureUncertainty   City  \\\n",
            "0  1743-11-01            6.068000                       1.737000  Århus   \n",
            "1  1743-12-01           17.034449                       1.024187  Århus   \n",
            "2  1744-01-01           17.034449                       1.024187  Århus   \n",
            "3  1744-02-01           17.034449                       1.024187  Århus   \n",
            "4  1744-03-01           17.034449                       1.024187  Århus   \n",
            "\n",
            "   Country  Latitude  Longitude  Year  Month  \n",
            "0  Denmark     57.05      10.33  1743     11  \n",
            "1  Denmark     57.05      10.33  1743     12  \n",
            "2  Denmark     57.05      10.33  1744      1  \n",
            "3  Denmark     57.05      10.33  1744      2  \n",
            "4  Denmark     57.05      10.33  1744      3  \n"
          ]
        }
      ],
      "source": [
        "import boto3\n",
        "import pandas as pd\n",
        "\n",
        "# Initialize S3 client\n",
        "s3 = boto3.client('s3')\n",
        "bucket_name = 'climate-risk-data-abhinav'  # Replace with your bucket name\n",
        "file_key = 'cleaned_climate_data.csv'\n",
        "\n",
        "# Load dataset\n",
        "obj = s3.get_object(Bucket=bucket_name, Key=file_key)\n",
        "data = pd.read_csv(obj['Body'])\n",
        "\n",
        "# Preview dataset\n",
        "print(data.info())\n",
        "print(data.head())\n"
      ]
    },
    {
      "cell_type": "code",
      "execution_count": null,
      "metadata": {
        "id": "gAygifAmXHiZ"
      },
      "outputs": [],
      "source": [
        "data['TemperatureRange'] = data['AverageTemperatureUncertainty'] * 2\n"
      ]
    },
    {
      "cell_type": "code",
      "execution_count": null,
      "metadata": {
        "id": "ONJmgnBfXJSC"
      },
      "outputs": [],
      "source": [
        "def get_season(month):\n",
        "    if month in [12, 1, 2]:\n",
        "        return 'Winter'\n",
        "    elif month in [3, 4, 5]:\n",
        "        return 'Spring'\n",
        "    elif month in [6, 7, 8]:\n",
        "        return 'Summer'\n",
        "    else:\n",
        "        return 'Fall'\n",
        "\n",
        "data['Season'] = data['Month'].apply(get_season)\n"
      ]
    },
    {
      "cell_type": "code",
      "execution_count": null,
      "metadata": {
        "id": "hLvoRAOVXLse"
      },
      "outputs": [],
      "source": [
        "from sklearn.preprocessing import LabelEncoder\n",
        "\n",
        "le_city = LabelEncoder()\n",
        "le_country = LabelEncoder()\n",
        "le_season = LabelEncoder()\n",
        "\n",
        "data['City'] = le_city.fit_transform(data['City'])\n",
        "data['Country'] = le_country.fit_transform(data['Country'])\n",
        "data['Season'] = le_season.fit_transform(data['Season'])\n"
      ]
    },
    {
      "cell_type": "code",
      "execution_count": null,
      "metadata": {
        "id": "m_3bx1yvXz5v"
      },
      "outputs": [],
      "source": [
        "features = ['Latitude', 'Longitude', 'Year', 'Month', 'Season', 'TemperatureRange']\n",
        "target = 'AverageTemperature'\n",
        "\n",
        "X = data[features]\n",
        "y = data[target]\n"
      ]
    },
    {
      "cell_type": "markdown",
      "metadata": {
        "id": "AHUw77RwX3Ek"
      },
      "source": [
        "Split data into test and training data"
      ]
    },
    {
      "cell_type": "code",
      "execution_count": null,
      "metadata": {
        "colab": {
          "base_uri": "https://localhost:8080/"
        },
        "id": "5nREecVYX5PW",
        "outputId": "28302f2a-1952-4b5e-8fda-af8f1b22d122"
      },
      "outputs": [
        {
          "name": "stdout",
          "output_type": "stream",
          "text": [
            "Training set size: (5928168, 6)\n",
            "Testing set size: (1482042, 6)\n"
          ]
        }
      ],
      "source": [
        "from sklearn.model_selection import train_test_split\n",
        "\n",
        "X_train, X_test, y_train, y_test = train_test_split(X, y, test_size=0.2, random_state=42)\n",
        "\n",
        "print(\"Training set size:\", X_train.shape)\n",
        "print(\"Testing set size:\", X_test.shape)\n"
      ]
    },
    {
      "cell_type": "code",
      "execution_count": null,
      "metadata": {
        "id": "o7p7tRCoX9DY"
      },
      "outputs": [],
      "source": [
        "X_train.to_csv('X_train.csv', index=False)\n",
        "X_test.to_csv('X_test.csv', index=False)\n",
        "y_train.to_csv('y_train.csv', index=False)\n",
        "y_test.to_csv('y_test.csv', index=False)\n"
      ]
    },
    {
      "cell_type": "code",
      "execution_count": null,
      "metadata": {
        "colab": {
          "base_uri": "https://localhost:8080/"
        },
        "id": "LMJggpv9YCb7",
        "outputId": "17b02800-3fde-4eba-953d-044fdd032224"
      },
      "outputs": [
        {
          "name": "stdout",
          "output_type": "stream",
          "text": [
            "Processed data uploaded to S3!\n"
          ]
        }
      ],
      "source": [
        "# Upload training data to S3\n",
        "with open('X_train.csv', 'rb') as file:\n",
        "    s3.upload_fileobj(file, bucket_name, 'X_train.csv')\n",
        "\n",
        "with open('y_train.csv', 'rb') as file:\n",
        "    s3.upload_fileobj(file, bucket_name, 'y_train.csv')\n",
        "\n",
        "print(\"Processed data uploaded to S3!\")\n"
      ]
    },
    {
      "cell_type": "code",
      "execution_count": null,
      "metadata": {
        "id": "TzWHICT_O7rf"
      },
      "outputs": [],
      "source": [
        "import boto3\n",
        "import pandas as pd\n",
        "\n",
        "# Initialize S3 client\n",
        "s3 = boto3.client('s3')\n",
        "bucket_name = 'climate-risk-data-abhinav'\n",
        "\n",
        "# Load training and testing data\n",
        "obj_train_X = s3.get_object(Bucket=bucket_name, Key='X_train.csv')\n",
        "obj_train_y = s3.get_object(Bucket=bucket_name, Key='y_train.csv')\n",
        "\n",
        "# Upload X_test.csv and y_test.csv to S3 if not already present\n",
        "# The with open block can be added to cell 46 along with uploads for X_train.csv and y_train.csv\n",
        "with open('X_test.csv', 'rb') as file:\n",
        "    s3.upload_fileobj(file, bucket_name, 'X_test.csv')\n",
        "\n",
        "with open('y_test.csv', 'rb') as file:\n",
        "    s3.upload_fileobj(file, bucket_name, 'y_test.csv')\n",
        "\n",
        "obj_test_X = s3.get_object(Bucket=bucket_name, Key='X_test.csv')\n",
        "obj_test_y = s3.get_object(Bucket=bucket_name, Key='y_test.csv')\n",
        "\n",
        "X_train = pd.read_csv(obj_train_X['Body'])\n",
        "y_train = pd.read_csv(obj_train_y['Body'])\n",
        "X_test = pd.read_csv(obj_test_X['Body'])\n",
        "y_test = pd.read_csv(obj_test_y['Body'])"
      ]
    },
    {
      "cell_type": "code",
      "execution_count": null,
      "metadata": {
        "id": "fH9FXac5WlgE"
      },
      "outputs": [],
      "source": [
        "from sklearn.ensemble import RandomForestRegressor\n",
        "from sklearn.metrics import mean_absolute_error, r2_score\n"
      ]
    },
    {
      "cell_type": "code",
      "execution_count": null,
      "metadata": {
        "id": "ot78bnsWWqKb"
      },
      "outputs": [],
      "source": [
        "# Initialize and train the model\n",
        "model = RandomForestRegressor(n_estimators=100, random_state=42)\n",
        "model.fit(X_train, y_train.values.ravel())\n",
        "\n",
        "print(\"Model training completed.\")\n"
      ]
    },
    {
      "cell_type": "code",
      "execution_count": null,
      "metadata": {
        "id": "OEm1MCQVeGMf"
      },
      "outputs": [],
      "source": [
        "y_pred = model.predict(X_test)\n"
      ]
    },
    {
      "cell_type": "code",
      "execution_count": null,
      "metadata": {
        "id": "OtZ5zrlUfZFI"
      },
      "outputs": [],
      "source": [
        "# Mean Absolute Error\n",
        "mae = mean_absolute_error(y_test, y_pred)\n",
        "print(f\"Mean Absolute Error (MAE): {mae}\")\n",
        "\n",
        "# R-squared\n",
        "r2 = r2_score(y_test, y_pred)\n",
        "print(f\"R² Score: {r2}\")\n"
      ]
    },
    {
      "cell_type": "code",
      "execution_count": null,
      "metadata": {
        "id": "nfyalMcPmPWs"
      },
      "outputs": [],
      "source": [
        "import matplotlib.pyplot as plt\n",
        "\n",
        "plt.figure(figsize=(10, 6))\n",
        "plt.scatter(y_test, y_pred, alpha=0.5)\n",
        "plt.title('Predicted vs Actual Temperatures', fontsize=16)\n",
        "plt.xlabel('Actual Temperature (°C)', fontsize=12)\n",
        "plt.ylabel('Predicted Temperature (°C)', fontsize=12)\n",
        "plt.grid(True)\n",
        "plt.show()\n"
      ]
    },
    {
      "cell_type": "code",
      "execution_count": null,
      "metadata": {
        "id": "YV87lzGUmU5-"
      },
      "outputs": [],
      "source": [
        "import joblib\n",
        "\n",
        "# Save model\n",
        "joblib.dump(model, 'temperature_model.pkl')\n",
        "print(\"Model saved locally.\")\n"
      ]
    },
    {
      "cell_type": "code",
      "execution_count": null,
      "metadata": {
        "id": "KHY6ZvP2mZ2m"
      },
      "outputs": [],
      "source": [
        "# Upload model to S3\n",
        "with open('temperature_model.pkl', 'rb') as file:\n",
        "    s3.upload_fileobj(file, bucket_name, 'temperature_model.pkl')\n",
        "\n",
        "print(\"Trained model uploaded to S3.\")\n"
      ]
    },
    {
      "cell_type": "code",
      "execution_count": null,
      "metadata": {
        "id": "GeweJXQQmcDO"
      },
      "outputs": [],
      "source": [
        "response = s3.list_objects_v2(Bucket=bucket_name)\n",
        "print(\"Files in S3 bucket:\")\n",
        "for obj in response['Contents']:\n",
        "    print(obj['Key'])\n"
      ]
    },
    {
      "cell_type": "code",
      "execution_count": null,
      "metadata": {
        "id": "CwEa7IN5ovYP"
      },
      "outputs": [],
      "source": [
        "!pip install boto3 sagemaker\n"
      ]
    },
    {
      "cell_type": "code",
      "execution_count": null,
      "metadata": {
        "id": "yXLl8JtTuHbU"
      },
      "outputs": [],
      "source": [
        "import boto3\n",
        "\n",
        "# Set AWS Region\n",
        "boto3.setup_default_session(region_name=\"us-east-1\")  # Replace with your region\n",
        "\n",
        "# Check AWS Region\n",
        "session = boto3.Session()\n",
        "print(\"AWS Region:\", session.region_name)\n"
      ]
    },
    {
      "cell_type": "code",
      "execution_count": null,
      "metadata": {
        "id": "rIou3HbIU-hG"
      },
      "outputs": [],
      "source": [
        "# Specify IAM Role ARN\n",
        "role = \"arn:aws:iam::418389467491:role/SageMakerExecutionRole\"  # Replace with your IAM role\n"
      ]
    },
    {
      "cell_type": "code",
      "execution_count": null,
      "metadata": {
        "id": "5AQKnRkGVBrb"
      },
      "outputs": [],
      "source": [
        "# Initialize S3 client\n",
        "s3 = boto3.client('s3')\n",
        "\n",
        "# Upload model to S3\n",
        "bucket_name = 'climate-risk-data-abhinav'  # Replace with your bucket name\n",
        "model_file_key = 'temperature_model.pkl'\n",
        "\n",
        "with open('temperature_model.pkl', 'rb') as file:\n",
        "    s3.upload_fileobj(file, bucket_name, model_file_key)\n",
        "\n",
        "print(f\"Model uploaded to S3://{bucket_name}/{model_file_key}\")\n"
      ]
    },
    {
      "cell_type": "code",
      "execution_count": null,
      "metadata": {
        "id": "6tZcWJ-fVr0K"
      },
      "outputs": [],
      "source": [
        "%%writefile predictor.py\n",
        "import joblib\n",
        "import json\n",
        "import os\n",
        "\n",
        "# Load the model\n",
        "def model_fn(model_dir):\n",
        "    return joblib.load(os.path.join(model_dir, \"model.pkl\"))\n",
        "\n",
        "# Parse input data\n",
        "def input_fn(request_body, request_content_type):\n",
        "    if request_content_type == \"application/json\":\n",
        "        return json.loads(request_body)\n",
        "    raise ValueError(f\"Unsupported content type: {request_content_type}\")\n",
        "\n",
        "# Make predictions\n",
        "def predict_fn(input_data, model):\n",
        "    return model.predict(input_data).tolist()\n"
      ]
    },
    {
      "cell_type": "code",
      "execution_count": null,
      "metadata": {
        "id": "0GTZL2KjVto0"
      },
      "outputs": [],
      "source": [
        "from sagemaker.sklearn.model import SKLearnModel\n",
        "\n",
        "# S3 path to the model file\n",
        "model_file = f\"s3://{bucket_name}/{model_file_key}\"\n",
        "\n",
        "# Create SageMaker model\n",
        "sklearn_model = SKLearnModel(\n",
        "    model_data=model_file,\n",
        "    role=role,\n",
        "    entry_point=\"predictor.py\",\n",
        "    framework_version=\"0.23-1\"\n",
        ")\n",
        "\n",
        "# Deploy model as a SageMaker endpoint\n",
        "predictor = sklearn_model.deploy(\n",
        "    instance_type=\"ml.m5.large\",  # Use a smaller instance like \"ml.t2.medium\" if cost is a concern\n",
        "    initial_instance_count=1,\n",
        "    endpoint_name=\"temperature-predictor-endpoint\"\n",
        ")\n",
        "\n",
        "print(\"Endpoint deployed successfully.\")\n"
      ]
    },
    {
      "cell_type": "code",
      "execution_count": null,
      "metadata": {
        "id": "zidgBQceVvoL"
      },
      "outputs": [],
      "source": [
        "import json\n",
        "from sagemaker.predictor import Predictor\n",
        "\n",
        "# Initialize predictor for the endpoint\n",
        "predictor = Predictor(endpoint_name=\"temperature-predictor-endpoint\")\n",
        "\n",
        "# Test data (replace with your features)\n",
        "test_data = {\n",
        "    \"Latitude\": [37.77],\n",
        "    \"Longitude\": [-122.42],\n",
        "    \"Year\": [2023],\n",
        "    \"Month\": [12],\n",
        "    \"Season\": [2],\n",
        "    \"TemperatureRange\": [2.5]\n",
        "}\n",
        "\n",
        "# Make a prediction\n",
        "response = predictor.predict(json.dumps(test_data))\n",
        "print(\"Prediction:\", response)\n"
      ]
    },
    {
      "cell_type": "code",
      "execution_count": null,
      "metadata": {
        "id": "iL3Wc40YVxQn"
      },
      "outputs": [],
      "source": [
        "# Delete the endpoint\n",
        "predictor.delete_endpoint()\n",
        "print(\"Endpoint deleted.\")\n"
      ]
    },
    {
      "cell_type": "code",
      "execution_count": null,
      "metadata": {
        "colab": {
          "base_uri": "https://localhost:8080/"
        },
        "id": "m_lxc3EDgD4u",
        "outputId": "f1b2735f-02c1-4dc7-f6af-32741ff7cb7b"
      },
      "outputs": [
        {
          "name": "stdout",
          "output_type": "stream",
          "text": [
            "Requirement already satisfied: flask in /usr/local/lib/python3.10/dist-packages (3.1.0)\n",
            "Requirement already satisfied: Werkzeug>=3.1 in /usr/local/lib/python3.10/dist-packages (from flask) (3.1.3)\n",
            "Requirement already satisfied: Jinja2>=3.1.2 in /usr/local/lib/python3.10/dist-packages (from flask) (3.1.4)\n",
            "Requirement already satisfied: itsdangerous>=2.2 in /usr/local/lib/python3.10/dist-packages (from flask) (2.2.0)\n",
            "Requirement already satisfied: click>=8.1.3 in /usr/local/lib/python3.10/dist-packages (from flask) (8.1.7)\n",
            "Requirement already satisfied: blinker>=1.9 in /usr/local/lib/python3.10/dist-packages (from flask) (1.9.0)\n",
            "Requirement already satisfied: MarkupSafe>=2.0 in /usr/local/lib/python3.10/dist-packages (from Jinja2>=3.1.2->flask) (3.0.2)\n"
          ]
        }
      ],
      "source": [
        "!pip install flask\n"
      ]
    },
    {
      "cell_type": "code",
      "execution_count": null,
      "metadata": {
        "colab": {
          "background_save": true,
          "base_uri": "https://localhost:8080/"
        },
        "id": "loVwRE3IgFS1",
        "outputId": "207b8041-6d44-4ef3-c46a-9fd6b7955397"
      },
      "outputs": [
        {
          "name": "stdout",
          "output_type": "stream",
          "text": [
            " * Serving Flask app '__main__'\n",
            " * Debug mode: on\n"
          ]
        },
        {
          "name": "stderr",
          "output_type": "stream",
          "text": [
            "INFO:werkzeug:\u001b[31m\u001b[1mWARNING: This is a development server. Do not use it in a production deployment. Use a production WSGI server instead.\u001b[0m\n",
            " * Running on http://127.0.0.1:5000\n",
            "INFO:werkzeug:\u001b[33mPress CTRL+C to quit\u001b[0m\n",
            "INFO:werkzeug: * Restarting with stat\n"
          ]
        }
      ],
      "source": [
        "from flask import Flask, request, render_template\n",
        "import boto3\n",
        "import json\n",
        "\n",
        "app = Flask(__name__)\n",
        "\n",
        "# Initialize SageMaker runtime client\n",
        "sagemaker_runtime = boto3.client('sagemaker-runtime', region_name='us-east-1')\n",
        "\n",
        "# Define the SageMaker endpoint name\n",
        "endpoint_name = 'temperature-predictor-endpoint'  # Replace with your endpoint name\n",
        "\n",
        "@app.route('/', methods=['GET', 'POST'])\n",
        "def index():\n",
        "    if request.method == 'POST':\n",
        "        # Get form data\n",
        "        latitude = float(request.form['latitude'])\n",
        "        longitude = float(request.form['longitude'])\n",
        "        year = int(request.form['year'])\n",
        "        month = int(request.form['month'])\n",
        "        season = int(request.form['season'])\n",
        "        temp_range = float(request.form['temp_range'])\n",
        "\n",
        "        # Prepare payload for SageMaker\n",
        "        payload = {\n",
        "            'Latitude': [latitude],\n",
        "            'Longitude': [longitude],\n",
        "            'Year': [year],\n",
        "            'Month': [month],\n",
        "            'Season': [season],\n",
        "            'TemperatureRange': [temp_range]\n",
        "        }\n",
        "\n",
        "        # Invoke SageMaker endpoint\n",
        "        response = sagemaker_runtime.invoke_endpoint(\n",
        "            EndpointName=endpoint_name,\n",
        "            ContentType='application/json',\n",
        "            Body=json.dumps(payload)\n",
        "        )\n",
        "\n",
        "        # Decode the response\n",
        "        prediction = json.loads(response['Body'].read().decode())\n",
        "\n",
        "        return render_template('index.html', prediction=prediction[0])\n",
        "\n",
        "    return render_template('index.html', prediction=None)\n",
        "\n",
        "if __name__ == '__main__':\n",
        "    app.run(port=5000, debug=True)\n"
      ]
    },
    {
      "cell_type": "code",
      "execution_count": null,
      "metadata": {
        "id": "cDz8jTHtgkmf"
      },
      "outputs": [],
      "source": []
    },
    {
      "cell_type": "code",
      "execution_count": null,
      "metadata": {
        "id": "tA8iOJOWgIbU"
      },
      "outputs": [],
      "source": [
        "!python app.py\n"
      ]
    }
  ],
  "metadata": {
    "colab": {
      "provenance": []
    },
    "kernelspec": {
      "display_name": "Python 3",
      "name": "python3"
    },
    "language_info": {
      "name": "python"
    }
  },
  "nbformat": 4,
  "nbformat_minor": 0
}